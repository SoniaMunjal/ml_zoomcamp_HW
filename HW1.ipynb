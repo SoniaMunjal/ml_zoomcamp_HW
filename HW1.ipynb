{
 "cells": [
  {
   "cell_type": "code",
   "execution_count": 1,
   "id": "e134ffce",
   "metadata": {},
   "outputs": [
    {
     "data": {
      "text/plain": [
       "'C:\\\\Users\\\\munjal\\\\Anaconda3\\\\envs\\\\ml-zoomcamp\\\\python.exe'"
      ]
     },
     "execution_count": 1,
     "metadata": {},
     "output_type": "execute_result"
    }
   ],
   "source": [
    "import sys\n",
    "sys.executable\n"
   ]
  },
  {
   "cell_type": "code",
   "execution_count": 2,
   "id": "daa616cb",
   "metadata": {
    "tags": []
   },
   "outputs": [],
   "source": [
    "import pandas as pd"
   ]
  },
  {
   "cell_type": "code",
   "execution_count": 3,
   "id": "080d81b4",
   "metadata": {
    "tags": []
   },
   "outputs": [
    {
     "data": {
      "text/plain": [
       "'2.0.3'"
      ]
     },
     "execution_count": 3,
     "metadata": {},
     "output_type": "execute_result"
    }
   ],
   "source": [
    "pd.__version__"
   ]
  },
  {
   "cell_type": "code",
   "execution_count": 4,
   "id": "008a8f84-52d3-4e97-b5af-8123e82a5614",
   "metadata": {
    "tags": []
   },
   "outputs": [],
   "source": [
    "df = pd.read_csv('raw.githubusercontent.com_alexeygrigorev_datasets_master_housing.csv')\n"
   ]
  },
  {
   "cell_type": "code",
   "execution_count": 5,
   "id": "b06b2c31-0847-41cc-866d-6506eeb97362",
   "metadata": {
    "tags": []
   },
   "outputs": [
    {
     "data": {
      "text/plain": [
       "Index(['longitude', 'latitude', 'housing_median_age', 'total_rooms',\n",
       "       'total_bedrooms', 'population', 'households', 'median_income',\n",
       "       'median_house_value', 'ocean_proximity'],\n",
       "      dtype='object')"
      ]
     },
     "execution_count": 5,
     "metadata": {},
     "output_type": "execute_result"
    }
   ],
   "source": [
    "df.columns"
   ]
  },
  {
   "cell_type": "code",
   "execution_count": 8,
   "id": "a920a112-1a94-4399-9211-dcda8a551cb3",
   "metadata": {
    "tags": []
   },
   "outputs": [
    {
     "data": {
      "text/plain": [
       "True"
      ]
     },
     "execution_count": 8,
     "metadata": {},
     "output_type": "execute_result"
    }
   ],
   "source": [
    "df.isnull().values.any()"
   ]
  },
  {
   "cell_type": "code",
   "execution_count": 9,
   "id": "8f26ffa2-555b-4164-af57-2da83a8a3193",
   "metadata": {
    "tags": []
   },
   "outputs": [
    {
     "data": {
      "text/plain": [
       "longitude               0\n",
       "latitude                0\n",
       "housing_median_age      0\n",
       "total_rooms             0\n",
       "total_bedrooms        207\n",
       "population              0\n",
       "households              0\n",
       "median_income           0\n",
       "median_house_value      0\n",
       "ocean_proximity         0\n",
       "dtype: int64"
      ]
     },
     "execution_count": 9,
     "metadata": {},
     "output_type": "execute_result"
    }
   ],
   "source": [
    "df.isnull().sum()"
   ]
  },
  {
   "cell_type": "code",
   "execution_count": 11,
   "id": "a808a96c-75c5-4550-9a2f-c17803013bc4",
   "metadata": {
    "tags": []
   },
   "outputs": [
    {
     "data": {
      "text/plain": [
       "5"
      ]
     },
     "execution_count": 11,
     "metadata": {},
     "output_type": "execute_result"
    }
   ],
   "source": [
    "df.ocean_proximity.nunique()"
   ]
  },
  {
   "cell_type": "code",
   "execution_count": 12,
   "id": "baf66f36-f8f0-48e9-a1f6-2b3f5ec281fe",
   "metadata": {
    "tags": []
   },
   "outputs": [
    {
     "data": {
      "text/plain": [
       "longitude               844\n",
       "latitude                862\n",
       "housing_median_age       52\n",
       "total_rooms            5926\n",
       "total_bedrooms         1923\n",
       "population             3888\n",
       "households             1815\n",
       "median_income         12928\n",
       "median_house_value     3842\n",
       "ocean_proximity           5\n",
       "dtype: int64"
      ]
     },
     "execution_count": 12,
     "metadata": {},
     "output_type": "execute_result"
    }
   ],
   "source": [
    "df.nunique()"
   ]
  },
  {
   "cell_type": "code",
   "execution_count": 19,
   "id": "87119ad3-f2eb-4501-ad10-8edbda3dd2a6",
   "metadata": {
    "tags": []
   },
   "outputs": [
    {
     "data": {
      "text/plain": [
       "0        NEAR BAY\n",
       "1        NEAR BAY\n",
       "2        NEAR BAY\n",
       "3        NEAR BAY\n",
       "4        NEAR BAY\n",
       "           ...   \n",
       "20635      INLAND\n",
       "20636      INLAND\n",
       "20637      INLAND\n",
       "20638      INLAND\n",
       "20639      INLAND\n",
       "Name: ocean_proximity, Length: 20640, dtype: object"
      ]
     },
     "execution_count": 19,
     "metadata": {},
     "output_type": "execute_result"
    }
   ],
   "source": [
    "df.ocean_proximity"
   ]
  },
  {
   "cell_type": "code",
   "execution_count": 22,
   "id": "ab3f6bcc-2bb0-4b5e-9eca-e0b92b06b33f",
   "metadata": {
    "tags": []
   },
   "outputs": [
    {
     "data": {
      "text/plain": [
       "0         True\n",
       "1         True\n",
       "2         True\n",
       "3         True\n",
       "4         True\n",
       "         ...  \n",
       "20635    False\n",
       "20636    False\n",
       "20637    False\n",
       "20638    False\n",
       "20639    False\n",
       "Name: ocean_proximity, Length: 20640, dtype: bool"
      ]
     },
     "execution_count": 22,
     "metadata": {},
     "output_type": "execute_result"
    }
   ],
   "source": [
    "df['ocean_proximity'] == 'NEAR BAY'"
   ]
  },
  {
   "cell_type": "code",
   "execution_count": 25,
   "id": "34f533a7-a59d-467b-a1ed-775f98557ffd",
   "metadata": {
    "tags": []
   },
   "outputs": [
    {
     "data": {
      "text/plain": [
       "259212.31179039303"
      ]
     },
     "execution_count": 25,
     "metadata": {},
     "output_type": "execute_result"
    }
   ],
   "source": [
    "df[\n",
    "   df['ocean_proximity'] == 'NEAR BAY'].median_house_value.mean()"
   ]
  },
  {
   "cell_type": "code",
   "execution_count": 31,
   "id": "dcc7642e-5555-4229-851b-93ad05372591",
   "metadata": {
    "tags": []
   },
   "outputs": [
    {
     "data": {
      "text/plain": [
       "True"
      ]
     },
     "execution_count": 31,
     "metadata": {},
     "output_type": "execute_result"
    }
   ],
   "source": [
    "df.total_bedrooms.isnull().values.any()"
   ]
  },
  {
   "cell_type": "code",
   "execution_count": 33,
   "id": "fd48b759-f701-4042-8a50-a87acb54baf2",
   "metadata": {
    "tags": []
   },
   "outputs": [
    {
     "data": {
      "text/html": [
       "<div>\n",
       "<style scoped>\n",
       "    .dataframe tbody tr th:only-of-type {\n",
       "        vertical-align: middle;\n",
       "    }\n",
       "\n",
       "    .dataframe tbody tr th {\n",
       "        vertical-align: top;\n",
       "    }\n",
       "\n",
       "    .dataframe thead th {\n",
       "        text-align: right;\n",
       "    }\n",
       "</style>\n",
       "<table border=\"1\" class=\"dataframe\">\n",
       "  <thead>\n",
       "    <tr style=\"text-align: right;\">\n",
       "      <th></th>\n",
       "      <th>longitude</th>\n",
       "      <th>latitude</th>\n",
       "      <th>housing_median_age</th>\n",
       "      <th>total_rooms</th>\n",
       "      <th>total_bedrooms</th>\n",
       "      <th>population</th>\n",
       "      <th>households</th>\n",
       "      <th>median_income</th>\n",
       "      <th>median_house_value</th>\n",
       "      <th>ocean_proximity</th>\n",
       "    </tr>\n",
       "  </thead>\n",
       "  <tbody>\n",
       "    <tr>\n",
       "      <th>290</th>\n",
       "      <td>-122.16</td>\n",
       "      <td>37.77</td>\n",
       "      <td>47.0</td>\n",
       "      <td>1256.0</td>\n",
       "      <td>NaN</td>\n",
       "      <td>570.0</td>\n",
       "      <td>218.0</td>\n",
       "      <td>4.3750</td>\n",
       "      <td>161900.0</td>\n",
       "      <td>NEAR BAY</td>\n",
       "    </tr>\n",
       "    <tr>\n",
       "      <th>341</th>\n",
       "      <td>-122.17</td>\n",
       "      <td>37.75</td>\n",
       "      <td>38.0</td>\n",
       "      <td>992.0</td>\n",
       "      <td>NaN</td>\n",
       "      <td>732.0</td>\n",
       "      <td>259.0</td>\n",
       "      <td>1.6196</td>\n",
       "      <td>85100.0</td>\n",
       "      <td>NEAR BAY</td>\n",
       "    </tr>\n",
       "    <tr>\n",
       "      <th>538</th>\n",
       "      <td>-122.28</td>\n",
       "      <td>37.78</td>\n",
       "      <td>29.0</td>\n",
       "      <td>5154.0</td>\n",
       "      <td>NaN</td>\n",
       "      <td>3741.0</td>\n",
       "      <td>1273.0</td>\n",
       "      <td>2.5762</td>\n",
       "      <td>173400.0</td>\n",
       "      <td>NEAR BAY</td>\n",
       "    </tr>\n",
       "    <tr>\n",
       "      <th>563</th>\n",
       "      <td>-122.24</td>\n",
       "      <td>37.75</td>\n",
       "      <td>45.0</td>\n",
       "      <td>891.0</td>\n",
       "      <td>NaN</td>\n",
       "      <td>384.0</td>\n",
       "      <td>146.0</td>\n",
       "      <td>4.9489</td>\n",
       "      <td>247100.0</td>\n",
       "      <td>NEAR BAY</td>\n",
       "    </tr>\n",
       "    <tr>\n",
       "      <th>696</th>\n",
       "      <td>-122.10</td>\n",
       "      <td>37.69</td>\n",
       "      <td>41.0</td>\n",
       "      <td>746.0</td>\n",
       "      <td>NaN</td>\n",
       "      <td>387.0</td>\n",
       "      <td>161.0</td>\n",
       "      <td>3.9063</td>\n",
       "      <td>178400.0</td>\n",
       "      <td>NEAR BAY</td>\n",
       "    </tr>\n",
       "    <tr>\n",
       "      <th>...</th>\n",
       "      <td>...</td>\n",
       "      <td>...</td>\n",
       "      <td>...</td>\n",
       "      <td>...</td>\n",
       "      <td>...</td>\n",
       "      <td>...</td>\n",
       "      <td>...</td>\n",
       "      <td>...</td>\n",
       "      <td>...</td>\n",
       "      <td>...</td>\n",
       "    </tr>\n",
       "    <tr>\n",
       "      <th>20267</th>\n",
       "      <td>-119.19</td>\n",
       "      <td>34.20</td>\n",
       "      <td>18.0</td>\n",
       "      <td>3620.0</td>\n",
       "      <td>NaN</td>\n",
       "      <td>3171.0</td>\n",
       "      <td>779.0</td>\n",
       "      <td>3.3409</td>\n",
       "      <td>220500.0</td>\n",
       "      <td>NEAR OCEAN</td>\n",
       "    </tr>\n",
       "    <tr>\n",
       "      <th>20268</th>\n",
       "      <td>-119.18</td>\n",
       "      <td>34.19</td>\n",
       "      <td>19.0</td>\n",
       "      <td>2393.0</td>\n",
       "      <td>NaN</td>\n",
       "      <td>1938.0</td>\n",
       "      <td>762.0</td>\n",
       "      <td>1.6953</td>\n",
       "      <td>167400.0</td>\n",
       "      <td>NEAR OCEAN</td>\n",
       "    </tr>\n",
       "    <tr>\n",
       "      <th>20372</th>\n",
       "      <td>-118.88</td>\n",
       "      <td>34.17</td>\n",
       "      <td>15.0</td>\n",
       "      <td>4260.0</td>\n",
       "      <td>NaN</td>\n",
       "      <td>1701.0</td>\n",
       "      <td>669.0</td>\n",
       "      <td>5.1033</td>\n",
       "      <td>410700.0</td>\n",
       "      <td>&lt;1H OCEAN</td>\n",
       "    </tr>\n",
       "    <tr>\n",
       "      <th>20460</th>\n",
       "      <td>-118.75</td>\n",
       "      <td>34.29</td>\n",
       "      <td>17.0</td>\n",
       "      <td>5512.0</td>\n",
       "      <td>NaN</td>\n",
       "      <td>2734.0</td>\n",
       "      <td>814.0</td>\n",
       "      <td>6.6073</td>\n",
       "      <td>258100.0</td>\n",
       "      <td>&lt;1H OCEAN</td>\n",
       "    </tr>\n",
       "    <tr>\n",
       "      <th>20484</th>\n",
       "      <td>-118.72</td>\n",
       "      <td>34.28</td>\n",
       "      <td>17.0</td>\n",
       "      <td>3051.0</td>\n",
       "      <td>NaN</td>\n",
       "      <td>1705.0</td>\n",
       "      <td>495.0</td>\n",
       "      <td>5.7376</td>\n",
       "      <td>218600.0</td>\n",
       "      <td>&lt;1H OCEAN</td>\n",
       "    </tr>\n",
       "  </tbody>\n",
       "</table>\n",
       "<p>207 rows × 10 columns</p>\n",
       "</div>"
      ],
      "text/plain": [
       "       longitude  latitude  housing_median_age  total_rooms  total_bedrooms  \\\n",
       "290      -122.16     37.77                47.0       1256.0             NaN   \n",
       "341      -122.17     37.75                38.0        992.0             NaN   \n",
       "538      -122.28     37.78                29.0       5154.0             NaN   \n",
       "563      -122.24     37.75                45.0        891.0             NaN   \n",
       "696      -122.10     37.69                41.0        746.0             NaN   \n",
       "...          ...       ...                 ...          ...             ...   \n",
       "20267    -119.19     34.20                18.0       3620.0             NaN   \n",
       "20268    -119.18     34.19                19.0       2393.0             NaN   \n",
       "20372    -118.88     34.17                15.0       4260.0             NaN   \n",
       "20460    -118.75     34.29                17.0       5512.0             NaN   \n",
       "20484    -118.72     34.28                17.0       3051.0             NaN   \n",
       "\n",
       "       population  households  median_income  median_house_value  \\\n",
       "290         570.0       218.0         4.3750            161900.0   \n",
       "341         732.0       259.0         1.6196             85100.0   \n",
       "538        3741.0      1273.0         2.5762            173400.0   \n",
       "563         384.0       146.0         4.9489            247100.0   \n",
       "696         387.0       161.0         3.9063            178400.0   \n",
       "...           ...         ...            ...                 ...   \n",
       "20267      3171.0       779.0         3.3409            220500.0   \n",
       "20268      1938.0       762.0         1.6953            167400.0   \n",
       "20372      1701.0       669.0         5.1033            410700.0   \n",
       "20460      2734.0       814.0         6.6073            258100.0   \n",
       "20484      1705.0       495.0         5.7376            218600.0   \n",
       "\n",
       "      ocean_proximity  \n",
       "290          NEAR BAY  \n",
       "341          NEAR BAY  \n",
       "538          NEAR BAY  \n",
       "563          NEAR BAY  \n",
       "696          NEAR BAY  \n",
       "...               ...  \n",
       "20267      NEAR OCEAN  \n",
       "20268      NEAR OCEAN  \n",
       "20372       <1H OCEAN  \n",
       "20460       <1H OCEAN  \n",
       "20484       <1H OCEAN  \n",
       "\n",
       "[207 rows x 10 columns]"
      ]
     },
     "execution_count": 33,
     "metadata": {},
     "output_type": "execute_result"
    }
   ],
   "source": [
    "df[df.total_bedrooms.isnull()]"
   ]
  },
  {
   "cell_type": "code",
   "execution_count": 46,
   "id": "cbeca4a7-1aad-4ea3-a8b8-d445d5ac46bd",
   "metadata": {
    "tags": []
   },
   "outputs": [
    {
     "name": "stdout",
     "output_type": "stream",
     "text": [
      "537.8705525375618\n"
     ]
    }
   ],
   "source": [
    "tot_bed_avg = df.total_bedrooms.mean()\n",
    "print(tot_bed_avg)"
   ]
  },
  {
   "cell_type": "code",
   "execution_count": 47,
   "id": "01d8ae32-015f-4188-99d7-ca2a3277badd",
   "metadata": {
    "tags": []
   },
   "outputs": [],
   "source": [
    "df['total_bedrooms'].fillna(value=tot_bed_avg, inplace=True)"
   ]
  },
  {
   "cell_type": "code",
   "execution_count": 48,
   "id": "16c78b2e-dd4a-429f-856b-5ecb70f3194c",
   "metadata": {
    "tags": []
   },
   "outputs": [
    {
     "data": {
      "text/plain": [
       "False"
      ]
     },
     "execution_count": 48,
     "metadata": {},
     "output_type": "execute_result"
    }
   ],
   "source": [
    "df.total_bedrooms.isnull().values.any()"
   ]
  },
  {
   "cell_type": "code",
   "execution_count": 50,
   "id": "9853adb1-50e5-439c-b375-66ecd4732173",
   "metadata": {
    "tags": []
   },
   "outputs": [
    {
     "data": {
      "text/plain": [
       "537.8705525375617"
      ]
     },
     "execution_count": 50,
     "metadata": {},
     "output_type": "execute_result"
    }
   ],
   "source": [
    "df.total_bedrooms.mean()"
   ]
  },
  {
   "cell_type": "code",
   "execution_count": 55,
   "id": "39465a98-100d-4236-b86f-a7cbea1dc924",
   "metadata": {
    "tags": []
   },
   "outputs": [
    {
     "data": {
      "text/plain": [
       "array(['NEAR BAY', '<1H OCEAN', 'INLAND', 'NEAR OCEAN', 'ISLAND'],\n",
       "      dtype=object)"
      ]
     },
     "execution_count": 55,
     "metadata": {},
     "output_type": "execute_result"
    }
   ],
   "source": [
    "df.ocean_proximity.unique()"
   ]
  },
  {
   "cell_type": "code",
   "execution_count": 69,
   "id": "07fc4cf3-8434-4da2-9f09-5c94437c1c76",
   "metadata": {
    "tags": []
   },
   "outputs": [],
   "source": [
    "df_numpy = df.loc[df['ocean_proximity'] == 'ISLAND',['housing_median_age','total_rooms','total_bedrooms']]"
   ]
  },
  {
   "cell_type": "code",
   "execution_count": 70,
   "id": "6bb19dc3-e78d-4228-8d7d-5ecf36c92ce0",
   "metadata": {
    "tags": []
   },
   "outputs": [
    {
     "data": {
      "text/html": [
       "<div>\n",
       "<style scoped>\n",
       "    .dataframe tbody tr th:only-of-type {\n",
       "        vertical-align: middle;\n",
       "    }\n",
       "\n",
       "    .dataframe tbody tr th {\n",
       "        vertical-align: top;\n",
       "    }\n",
       "\n",
       "    .dataframe thead th {\n",
       "        text-align: right;\n",
       "    }\n",
       "</style>\n",
       "<table border=\"1\" class=\"dataframe\">\n",
       "  <thead>\n",
       "    <tr style=\"text-align: right;\">\n",
       "      <th></th>\n",
       "      <th>housing_median_age</th>\n",
       "      <th>total_rooms</th>\n",
       "      <th>total_bedrooms</th>\n",
       "    </tr>\n",
       "  </thead>\n",
       "  <tbody>\n",
       "    <tr>\n",
       "      <th>8314</th>\n",
       "      <td>27.0</td>\n",
       "      <td>1675.0</td>\n",
       "      <td>521.0</td>\n",
       "    </tr>\n",
       "    <tr>\n",
       "      <th>8315</th>\n",
       "      <td>52.0</td>\n",
       "      <td>2359.0</td>\n",
       "      <td>591.0</td>\n",
       "    </tr>\n",
       "    <tr>\n",
       "      <th>8316</th>\n",
       "      <td>52.0</td>\n",
       "      <td>2127.0</td>\n",
       "      <td>512.0</td>\n",
       "    </tr>\n",
       "    <tr>\n",
       "      <th>8317</th>\n",
       "      <td>52.0</td>\n",
       "      <td>996.0</td>\n",
       "      <td>264.0</td>\n",
       "    </tr>\n",
       "    <tr>\n",
       "      <th>8318</th>\n",
       "      <td>29.0</td>\n",
       "      <td>716.0</td>\n",
       "      <td>214.0</td>\n",
       "    </tr>\n",
       "  </tbody>\n",
       "</table>\n",
       "</div>"
      ],
      "text/plain": [
       "      housing_median_age  total_rooms  total_bedrooms\n",
       "8314                27.0       1675.0           521.0\n",
       "8315                52.0       2359.0           591.0\n",
       "8316                52.0       2127.0           512.0\n",
       "8317                52.0        996.0           264.0\n",
       "8318                29.0        716.0           214.0"
      ]
     },
     "execution_count": 70,
     "metadata": {},
     "output_type": "execute_result"
    }
   ],
   "source": [
    "df_numpy"
   ]
  },
  {
   "cell_type": "code",
   "execution_count": 75,
   "id": "7549b8c4-522b-4fff-95a5-0ef78a0d339a",
   "metadata": {
    "tags": []
   },
   "outputs": [],
   "source": [
    "X = df_numpy.values"
   ]
  },
  {
   "cell_type": "code",
   "execution_count": 76,
   "id": "0668b91c-2c1d-44e9-ac99-4865f7d459c5",
   "metadata": {
    "tags": []
   },
   "outputs": [
    {
     "data": {
      "text/plain": [
       "array([[  27., 1675.,  521.],\n",
       "       [  52., 2359.,  591.],\n",
       "       [  52., 2127.,  512.],\n",
       "       [  52.,  996.,  264.],\n",
       "       [  29.,  716.,  214.]])"
      ]
     },
     "execution_count": 76,
     "metadata": {},
     "output_type": "execute_result"
    }
   ],
   "source": [
    "X"
   ]
  },
  {
   "cell_type": "code",
   "execution_count": 78,
   "id": "1dc7447f-5730-462e-b633-9170296b0c7b",
   "metadata": {
    "tags": []
   },
   "outputs": [],
   "source": [
    "X_T = X.T\n",
    "XTX = X_T.dot(X)"
   ]
  },
  {
   "cell_type": "code",
   "execution_count": 79,
   "id": "0d385020-31a3-484a-9752-385f72053863",
   "metadata": {
    "tags": []
   },
   "outputs": [],
   "source": [
    "import numpy as np"
   ]
  },
  {
   "cell_type": "code",
   "execution_count": 80,
   "id": "e8bc1ebe-10f5-430f-97b6-4c092440de2b",
   "metadata": {
    "tags": []
   },
   "outputs": [],
   "source": [
    "XTX_inv = np.linalg.inv(XTX)"
   ]
  },
  {
   "cell_type": "code",
   "execution_count": 82,
   "id": "2ce40e01-9abb-474b-a61a-cc983ceff1dd",
   "metadata": {
    "tags": []
   },
   "outputs": [],
   "source": [
    "y = np.array([950, 1300, 800, 1000, 1300])"
   ]
  },
  {
   "cell_type": "code",
   "execution_count": 94,
   "id": "ed3ad493-8d5c-41ea-a696-26aa825512f6",
   "metadata": {
    "tags": []
   },
   "outputs": [],
   "source": [
    "res = XTX_inv.dot(X_T)\n",
    "w = res.dot(y)"
   ]
  },
  {
   "cell_type": "code",
   "execution_count": 95,
   "id": "c4dbe543-e84a-448f-a859-fc6d017dc0c6",
   "metadata": {
    "tags": []
   },
   "outputs": [
    {
     "data": {
      "text/plain": [
       "array([23.12330961, -1.48124183,  5.69922946])"
      ]
     },
     "execution_count": 95,
     "metadata": {},
     "output_type": "execute_result"
    }
   ],
   "source": [
    "w"
   ]
  },
  {
   "cell_type": "code",
   "execution_count": null,
   "id": "3d63a63c-dec6-4590-a65a-2b79581f663b",
   "metadata": {},
   "outputs": [],
   "source": []
  }
 ],
 "metadata": {
  "kernelspec": {
   "display_name": "Python 3 (ipykernel)",
   "language": "python",
   "name": "python3"
  },
  "language_info": {
   "codemirror_mode": {
    "name": "ipython",
    "version": 3
   },
   "file_extension": ".py",
   "mimetype": "text/x-python",
   "name": "python",
   "nbconvert_exporter": "python",
   "pygments_lexer": "ipython3",
   "version": "3.9.18"
  }
 },
 "nbformat": 4,
 "nbformat_minor": 5
}
